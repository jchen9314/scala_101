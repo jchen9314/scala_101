{
 "cells": [
  {
   "cell_type": "markdown",
   "metadata": {},
   "source": [
    "## Control flow\n",
    "\n",
    "- AND: && \n",
    "- OR: ||\n",
    "- NOT: !"
   ]
  },
  {
   "cell_type": "markdown",
   "metadata": {},
   "source": [
    "### if"
   ]
  },
  {
   "cell_type": "code",
   "execution_count": 2,
   "metadata": {},
   "outputs": [
    {
     "name": "stdout",
     "output_type": "stream",
     "text": [
      "I will print if True\n"
     ]
    }
   ],
   "source": [
    "if (3 == 3){\n",
    "    println(\"I will print if True\")\n",
    "}"
   ]
  },
  {
   "cell_type": "code",
   "execution_count": 5,
   "metadata": {},
   "outputs": [
    {
     "name": "stdout",
     "output_type": "stream",
     "text": [
      "The value of x doesn't end with o\n"
     ]
    },
    {
     "data": {
      "text/plain": [
       "x: String = zzz\n"
      ]
     },
     "execution_count": 5,
     "metadata": {},
     "output_type": "execute_result"
    }
   ],
   "source": [
    "val x = \"zzz\"\n",
    "\n",
    "if (x.endsWith(\"o\")) {\n",
    "    println(\"The value of x ends with o\")\n",
    "} else{\n",
    "    println(\"The value of x doesn't end with o\")\n",
    "}"
   ]
  },
  {
   "cell_type": "code",
   "execution_count": 8,
   "metadata": {},
   "outputs": [
    {
     "name": "stdout",
     "output_type": "stream",
     "text": [
      "Welcome Sammy\n"
     ]
    },
    {
     "data": {
      "text/plain": [
       "person: String = Sammy\n"
      ]
     },
     "execution_count": 8,
     "metadata": {},
     "output_type": "execute_result"
    }
   ],
   "source": [
    "val person = \"Sammy\"\n",
    "\n",
    "if (person == \"Sammy\") {\n",
    "    println(\"Welcome Sammy\")\n",
    "} else if (person == \"George\") {\n",
    "    println(\"Welcome George\")\n",
    "} else {\n",
    "    println(\"What is your name?\")\n",
    "}"
   ]
  },
  {
   "cell_type": "code",
   "execution_count": 12,
   "metadata": {},
   "outputs": [
    {
     "name": "stdout",
     "output_type": "stream",
     "text": [
      "false\n"
     ]
    }
   ],
   "source": [
    "println((1 == 2) && (2 == 2))"
   ]
  },
  {
   "cell_type": "code",
   "execution_count": 11,
   "metadata": {},
   "outputs": [
    {
     "name": "stdout",
     "output_type": "stream",
     "text": [
      "true\n"
     ]
    }
   ],
   "source": [
    "println((1==2) || (2==2))"
   ]
  },
  {
   "cell_type": "code",
   "execution_count": 13,
   "metadata": {},
   "outputs": [
    {
     "name": "stdout",
     "output_type": "stream",
     "text": [
      "false\n"
     ]
    }
   ],
   "source": [
    "println(!(1==1))"
   ]
  },
  {
   "cell_type": "markdown",
   "metadata": {},
   "source": [
    "### For"
   ]
  },
  {
   "cell_type": "code",
   "execution_count": 15,
   "metadata": {},
   "outputs": [
    {
     "name": "stdout",
     "output_type": "stream",
     "text": [
      "1\n",
      "2\n",
      "3\n"
     ]
    }
   ],
   "source": [
    "for (item <- List(1,2,3)){\n",
    "    println(item)\n",
    "}"
   ]
  },
  {
   "cell_type": "code",
   "execution_count": 16,
   "metadata": {},
   "outputs": [
    {
     "name": "stdout",
     "output_type": "stream",
     "text": [
      "1\n",
      "2\n"
     ]
    }
   ],
   "source": [
    "for (item <- Array.range(1,3)){\n",
    "    println(item)\n",
    "}"
   ]
  },
  {
   "cell_type": "code",
   "execution_count": 18,
   "metadata": {},
   "outputs": [
    {
     "name": "stdout",
     "output_type": "stream",
     "text": [
      "1 is odd\n",
      "2 is even\n",
      "3 is odd\n",
      "4 is even\n",
      "5 is odd\n",
      "6 is even\n",
      "7 is odd\n",
      "8 is even\n",
      "9 is odd\n"
     ]
    }
   ],
   "source": [
    "for (num <- Range(1,10)) {\n",
    "    if (num % 2 == 0){\n",
    "        println(s\"$num is even\")\n",
    "    } else {\n",
    "        println(s\"$num is odd\")\n",
    "    }\n",
    "}"
   ]
  },
  {
   "cell_type": "code",
   "execution_count": 19,
   "metadata": {},
   "outputs": [
    {
     "name": "stdout",
     "output_type": "stream",
     "text": [
      "Cindy starts with a C\n",
      "Cathy starts with a C\n"
     ]
    },
    {
     "data": {
      "text/plain": [
       "names: List[String] = List(John, abe, Cindy, Cathy)\n"
      ]
     },
     "execution_count": 19,
     "metadata": {},
     "output_type": "execute_result"
    }
   ],
   "source": [
    "val names = List(\"John\", \"abe\", \"Cindy\", \"Cathy\")\n",
    "\n",
    "for (name <- names){\n",
    "    if (name.startsWith(\"C\")){\n",
    "        println(s\"$name starts with a C\")\n",
    "    }\n",
    "}"
   ]
  },
  {
   "cell_type": "markdown",
   "metadata": {},
   "source": [
    "### While"
   ]
  },
  {
   "cell_type": "code",
   "execution_count": 20,
   "metadata": {},
   "outputs": [
    {
     "name": "stdout",
     "output_type": "stream",
     "text": [
      "x is currently 0\n",
      "x is still less than 5, adding 1 to x\n",
      "x is currently 1\n",
      "x is still less than 5, adding 1 to x\n",
      "x is currently 2\n",
      "x is still less than 5, adding 1 to x\n",
      "x is currently 3\n",
      "x is still less than 5, adding 1 to x\n",
      "x is currently 4\n",
      "x is still less than 5, adding 1 to x\n"
     ]
    },
    {
     "data": {
      "text/plain": [
       "x: Int = 5\n"
      ]
     },
     "execution_count": 20,
     "metadata": {},
     "output_type": "execute_result"
    }
   ],
   "source": [
    "var x = 0\n",
    "\n",
    "while (x < 5){\n",
    "    println(s\"x is currently $x\")\n",
    "    println(\"x is still less than 5, adding 1 to x\")\n",
    "    x = x + 1\n",
    "}"
   ]
  },
  {
   "cell_type": "code",
   "execution_count": 21,
   "metadata": {},
   "outputs": [
    {
     "name": "stdout",
     "output_type": "stream",
     "text": [
      "y is currently 0\n",
      "y is still less than 10, add 1 to y\n",
      "y is currently 1\n",
      "y is still less than 10, add 1 to y\n",
      "y is currently 2\n",
      "y is still less than 10, add 1 to y\n"
     ]
    },
    {
     "ename": "scala.util.control.BreakControl",
     "evalue": "",
     "output_type": "error",
     "traceback": [
      "scala.util.control.BreakControl",
      ""
     ]
    }
   ],
   "source": [
    "\n",
    "import util.control.Breaks._ //break not built-in, import break to stop the loop\n",
    "\n",
    "var y = 0\n",
    "\n",
    "while (y < 10){\n",
    "    println(s\"y is currently $y\")\n",
    "    println(\"y is still less than 10, add 1 to y\")\n",
    "    y = y + 1\n",
    "    if (y == 3) break // import break first\n",
    "}"
   ]
  },
  {
   "cell_type": "markdown",
   "metadata": {},
   "source": [
    "### Function"
   ]
  },
  {
   "cell_type": "code",
   "execution_count": 22,
   "metadata": {},
   "outputs": [
    {
     "name": "stdout",
     "output_type": "stream",
     "text": [
      "Simple print\n"
     ]
    },
    {
     "data": {
      "text/plain": [
       "simple: ()Unit\n"
      ]
     },
     "execution_count": 22,
     "metadata": {},
     "output_type": "execute_result"
    }
   ],
   "source": [
    "def simple(): Unit = {\n",
    "    println(\"Simple print\")\n",
    "}\n",
    "\n",
    "simple()"
   ]
  },
  {
   "cell_type": "code",
   "execution_count": 23,
   "metadata": {},
   "outputs": [
    {
     "data": {
      "text/plain": [
       "adder: (num1: Int, num2: Int)Int\n",
       "res22: Int = 9\n"
      ]
     },
     "execution_count": 23,
     "metadata": {},
     "output_type": "execute_result"
    }
   ],
   "source": [
    "// declare data type of inputs and outputs\n",
    "def adder(num1:Int, num2:Int): Int = {\n",
    "    return num1 + num2\n",
    "}\n",
    "\n",
    "adder(4,5)"
   ]
  },
  {
   "cell_type": "code",
   "execution_count": 24,
   "metadata": {},
   "outputs": [
    {
     "name": "stdout",
     "output_type": "stream",
     "text": [
      "Hello JC\n"
     ]
    },
    {
     "data": {
      "text/plain": [
       "greetName: (name: String)String\n",
       "fullgreet: String = Hello JC\n"
      ]
     },
     "execution_count": 24,
     "metadata": {},
     "output_type": "execute_result"
    }
   ],
   "source": [
    "def greetName(name:String): String = {\n",
    "    return s\"Hello $name\"\n",
    "}\n",
    "\n",
    "val fullgreet = greetName(\"JC\")\n",
    "println(fullgreet)"
   ]
  },
  {
   "cell_type": "code",
   "execution_count": 26,
   "metadata": {},
   "outputs": [
    {
     "name": "stdout",
     "output_type": "stream",
     "text": [
      "false\n",
      "true\n"
     ]
    },
    {
     "data": {
      "text/plain": [
       "isPrime: (numcheck: Int)Boolean\n"
      ]
     },
     "execution_count": 26,
     "metadata": {},
     "output_type": "execute_result"
    }
   ],
   "source": [
    "def isPrime(numcheck: Int): Boolean = {\n",
    "    for (n <- Range(2, numcheck)) {\n",
    "        if (numcheck %n == 0) {\n",
    "            return false\n",
    "        }\n",
    "    }\n",
    "    return true\n",
    "}\n",
    "\n",
    "println(isPrime(10)) //false\n",
    "println(isPrime(23)) //true"
   ]
  },
  {
   "cell_type": "code",
   "execution_count": 29,
   "metadata": {},
   "outputs": [
    {
     "name": "stdout",
     "output_type": "stream",
     "text": [
      "List(1, 2, 3, 7)\n"
     ]
    },
    {
     "data": {
      "text/plain": [
       "numbers: List[Int] = List(1, 2, 3, 7)\n",
       "check: (nums: List[Int])List[Int]\n"
      ]
     },
     "execution_count": 29,
     "metadata": {},
     "output_type": "execute_result"
    }
   ],
   "source": [
    "val numbers = List(1,2,3,7)\n",
    "\n",
    "def check(nums:List[Int]): List[Int] = {\n",
    "    return nums\n",
    "}\n",
    "\n",
    "println(check(numbers))"
   ]
  },
  {
   "cell_type": "markdown",
   "metadata": {},
   "source": [
    "### Quiz"
   ]
  },
  {
   "cell_type": "code",
   "execution_count": 31,
   "metadata": {},
   "outputs": [
    {
     "data": {
      "text/plain": [
       "checkEven: (num: Int)Boolean\n",
       "res29: Boolean = true\n"
      ]
     },
     "execution_count": 31,
     "metadata": {},
     "output_type": "execute_result"
    }
   ],
   "source": [
    "// Check for single even\n",
    "// - input: Int\n",
    "// = output: Boolean\n",
    "\n",
    "def checkEven(num:Int) = num % 2 == 0 \n",
    "\n",
    "checkEven(4)"
   ]
  },
  {
   "cell_type": "code",
   "execution_count": 32,
   "metadata": {},
   "outputs": [
    {
     "name": "stdout",
     "output_type": "stream",
     "text": [
      "true\n",
      "false\n"
     ]
    },
    {
     "data": {
      "text/plain": [
       "checkList: (numbers: List[Int])Boolean\n",
       "evensample: List[Int] = List(1, 2, 3, 4, 5)\n",
       "oddsample: List[Int] = List(1, 3, 5, 7)\n"
      ]
     },
     "execution_count": 32,
     "metadata": {},
     "output_type": "execute_result"
    }
   ],
   "source": [
    "// check evens in a list\n",
    "\n",
    "def checkList(numbers:List[Int]): Boolean = {\n",
    "    for (n <- numbers) {\n",
    "        if (n % 2 == 0){\n",
    "            return true\n",
    "        }\n",
    "    }\n",
    "    return false\n",
    "}\n",
    "\n",
    "val evensample = List(1,2,3,4,5)\n",
    "val oddsample = List(1,3,5,7)\n",
    "\n",
    "println(checkList(evensample))\n",
    "println(checkList(oddsample))"
   ]
  },
  {
   "cell_type": "code",
   "execution_count": 34,
   "metadata": {},
   "outputs": [
    {
     "data": {
      "text/plain": [
       "lucky: (nums: List[Int])Int\n",
       "numbers: List[Int] = List(1, 2, 3, 7)\n",
       "res32: Int = 20\n"
      ]
     },
     "execution_count": 34,
     "metadata": {},
     "output_type": "execute_result"
    }
   ],
   "source": [
    "// calculate sum of a list of integers. 7 should be counted twice\n",
    "\n",
    "def lucky(nums:List[Int]): Int = {\n",
    "    var output = 0\n",
    "    \n",
    "    for (n <- nums){\n",
    "        if (n == 7){\n",
    "            output = output + n * 2\n",
    "        }\n",
    "        else {\n",
    "            output = output + n\n",
    "        }\n",
    "    }\n",
    "    return output\n",
    "}\n",
    "\n",
    "val numbers = List(1,2,3,7)\n",
    "lucky(numbers)"
   ]
  },
  {
   "cell_type": "code",
   "execution_count": 36,
   "metadata": {},
   "outputs": [
    {
     "name": "stdout",
     "output_type": "stream",
     "text": [
      "true\n",
      "true\n",
      "false\n"
     ]
    },
    {
     "data": {
      "text/plain": [
       "balanceCheck: (mylist: List[Int])Boolean\n",
       "ballist: List[Int] = List(1, 2, 3, 4, 10)\n",
       "ballist2: List[Int] = List(2, 3, 3, 2)\n",
       "unballist: List[Int] = List(10, 20, 70)\n"
      ]
     },
     "execution_count": 36,
     "metadata": {},
     "output_type": "execute_result"
    }
   ],
   "source": [
    "// split a list of numbers and check if the sum of left/right split is the same\n",
    "\n",
    "def balanceCheck(mylist:List[Int]): Boolean = {\n",
    "    var firsthalf = 0\n",
    "    var secondhalf = 0\n",
    "    \n",
    "    secondhalf = mylist.sum\n",
    "    \n",
    "    for (i <- Range(0, mylist.length)){\n",
    "        firsthalf = firsthalf + mylist(i)\n",
    "        secondhalf = secondhalf - mylist(i)\n",
    "        \n",
    "        if (firsthalf == secondhalf){\n",
    "            return true\n",
    "        }\n",
    "    }\n",
    "    return false\n",
    "}\n",
    "\n",
    "\n",
    "val ballist = List(1,2,3,4,10)\n",
    "val ballist2 = List(2,3,3,2)\n",
    "val unballist = List(10, 20, 70)\n",
    "\n",
    "println(balanceCheck(ballist))\n",
    "println(balanceCheck(ballist2))\n",
    "println(balanceCheck(unballist))"
   ]
  },
  {
   "cell_type": "code",
   "execution_count": 38,
   "metadata": {},
   "outputs": [
    {
     "name": "stdout",
     "output_type": "stream",
     "text": [
      "true\n",
      "false\n"
     ]
    },
    {
     "data": {
      "text/plain": [
       "palindromeCheck: (st: String)Boolean\n"
      ]
     },
     "execution_count": 38,
     "metadata": {},
     "output_type": "execute_result"
    }
   ],
   "source": [
    "// Palindrome check\n",
    "\n",
    "def palindromeCheck(st: String): Boolean = {\n",
    "    return (st == st.reverse)\n",
    "}\n",
    "\n",
    "println(palindromeCheck(\"abccba\"))\n",
    "println(palindromeCheck(\"hello\"))"
   ]
  },
  {
   "cell_type": "code",
   "execution_count": null,
   "metadata": {},
   "outputs": [],
   "source": []
  }
 ],
 "metadata": {
  "kernelspec": {
   "display_name": "spylon-kernel",
   "language": "scala",
   "name": "spylon-kernel"
  },
  "language_info": {
   "codemirror_mode": "text/x-scala",
   "file_extension": ".scala",
   "help_links": [
    {
     "text": "MetaKernel Magics",
     "url": "https://metakernel.readthedocs.io/en/latest/source/README.html"
    }
   ],
   "mimetype": "text/x-scala",
   "name": "scala",
   "pygments_lexer": "scala",
   "version": "0.4.1"
  }
 },
 "nbformat": 4,
 "nbformat_minor": 2
}
